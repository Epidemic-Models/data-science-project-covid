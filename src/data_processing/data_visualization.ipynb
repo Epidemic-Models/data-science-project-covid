{
 "cells": [
  {
   "cell_type": "code",
   "execution_count": 6,
   "metadata": {},
   "outputs": [],
   "source": [
    "from IPython.display import display, HTML\n",
    "from datetime import datetime\n",
    "\n",
    "import numpy as np\n",
    "import matplotlib.pyplot as plt\n",
    "import pandas as pd"
   ]
  },
  {
   "cell_type": "code",
   "execution_count": 7,
   "metadata": {},
   "outputs": [
    {
     "name": "stderr",
     "output_type": "stream",
     "text": [
      "C:\\Users\\bornalid\\AppData\\Local\\Temp/ipykernel_22276/1212561128.py:8: FutureWarning: In a future version of pandas all arguments of DataFrame.drop except for the argument 'labels' will be keyword-only\n",
      "  df.drop(df.index[0:215],0,inplace=True)\n"
     ]
    },
    {
     "data": {
      "text/html": [
       "<div>\n",
       "<style scoped>\n",
       "    .dataframe tbody tr th:only-of-type {\n",
       "        vertical-align: middle;\n",
       "    }\n",
       "\n",
       "    .dataframe tbody tr th {\n",
       "        vertical-align: top;\n",
       "    }\n",
       "\n",
       "    .dataframe thead th {\n",
       "        text-align: right;\n",
       "    }\n",
       "</style>\n",
       "<table border=\"1\" class=\"dataframe\">\n",
       "  <thead>\n",
       "    <tr style=\"text-align: right;\">\n",
       "      <th></th>\n",
       "      <th>Nem</th>\n",
       "      <th>Kor</th>\n",
       "    </tr>\n",
       "  </thead>\n",
       "  <tbody>\n",
       "    <tr>\n",
       "      <th>32166</th>\n",
       "      <td>Nõ</td>\n",
       "      <td>89</td>\n",
       "    </tr>\n",
       "    <tr>\n",
       "      <th>32167</th>\n",
       "      <td>Nõ</td>\n",
       "      <td>78</td>\n",
       "    </tr>\n",
       "    <tr>\n",
       "      <th>32168</th>\n",
       "      <td>Férfi</td>\n",
       "      <td>70</td>\n",
       "    </tr>\n",
       "    <tr>\n",
       "      <th>32169</th>\n",
       "      <td>Nõ</td>\n",
       "      <td>85</td>\n",
       "    </tr>\n",
       "    <tr>\n",
       "      <th>32170</th>\n",
       "      <td>Férfi</td>\n",
       "      <td>70</td>\n",
       "    </tr>\n",
       "  </tbody>\n",
       "</table>\n",
       "</div>"
      ],
      "text/plain": [
       "         Nem  Kor\n",
       "32166     Nõ   89\n",
       "32167     Nõ   78\n",
       "32168  Férfi   70\n",
       "32169     Nõ   85\n",
       "32170  Férfi   70"
      ]
     },
     "execution_count": 7,
     "metadata": {},
     "output_type": "execute_result"
    }
   ],
   "source": [
    "df = pd.read_csv(\"raw_data.csv\")\n",
    "df = df.drop(columns=[\"Sorszám\", \"Alapbetegségek\"])\n",
    "#df.sort_values(by=['Kor'], inplace=True)\n",
    "#df.loc[df[\"Nem\"] == \"Nõ\"] = \"Women\"\n",
    "#df = df.set_index('Kor')\n",
    "#df.to_csv(\"df.csv\")\n",
    "#df.dropna()\n",
    "df.drop(df.index[0:215],0,inplace=True)\n",
    "df = df.reindex(index=df.index[::-1])\n",
    "df.reset_index(drop=True, inplace=True)\n",
    "df.tail(5)\n",
    "#df.info()"
   ]
  },
  {
   "cell_type": "code",
   "execution_count": 8,
   "metadata": {},
   "outputs": [
    {
     "name": "stdout",
     "output_type": "stream",
     "text": [
      "        Dátum  Elhunytak  New Deaths\n",
      "0  2020-03-16        1.0         1.0\n",
      "1  2020-03-17        1.0         0.0\n",
      "2  2020-03-18        1.0         0.0\n",
      "3  2020-03-19        1.0         0.0\n",
      "4  2020-03-20        4.0         3.0\n"
     ]
    },
    {
     "name": "stderr",
     "output_type": "stream",
     "text": [
      "C:\\Users\\bornalid\\AppData\\Local\\Temp/ipykernel_22276/1748439750.py:11: FutureWarning: In a future version of pandas all arguments of DataFrame.drop except for the argument 'labels' will be keyword-only\n",
      "  df1.drop(df1.index[0:12],0,inplace=True)\n"
     ]
    },
    {
     "data": {
      "text/plain": [
       "610"
      ]
     },
     "execution_count": 8,
     "metadata": {},
     "output_type": "execute_result"
    }
   ],
   "source": [
    "read_file = pd.DataFrame(pd.read_excel(\"dates.xlsx\"))\n",
    "#read_file= read_file.drop( \" Elhunytak\", axis=1)\n",
    "read_file.to_csv (\"dates.csv\",\n",
    "                  index = None,\n",
    "                  header=True)\n",
    "   \n",
    "# read csv file and convert\n",
    "# into a dataframe object\n",
    "df1 = pd.read_csv(\"dates.csv\")\n",
    "df1 = pd.read_csv(\"dates.csv\", usecols=['Dátum', 'Elhunytak', 'New Deaths'])\n",
    "df1.drop(df1.index[0:12],0,inplace=True)\n",
    "df1['Elhunytak'] = df1['Elhunytak'].fillna(0)\n",
    "df1['New Deaths'] = df1['New Deaths'].fillna(0)\n",
    "df1.reset_index(drop=True, inplace=True)\n",
    "#df1[\"Dátum\"]=pd.to_datetime(df1[\"Dátum\"])\n",
    "#df1.set_index(\"Dátum\", inplace=True)\n",
    "print(df1.head())\n",
    "len(df1)\n",
    "#df1.info()"
   ]
  },
  {
   "cell_type": "code",
   "execution_count": 9,
   "metadata": {},
   "outputs": [
    {
     "data": {
      "text/html": [
       "<div>\n",
       "<style scoped>\n",
       "    .dataframe tbody tr th:only-of-type {\n",
       "        vertical-align: middle;\n",
       "    }\n",
       "\n",
       "    .dataframe tbody tr th {\n",
       "        vertical-align: top;\n",
       "    }\n",
       "\n",
       "    .dataframe thead th {\n",
       "        text-align: right;\n",
       "    }\n",
       "</style>\n",
       "<table border=\"1\" class=\"dataframe\">\n",
       "  <thead>\n",
       "    <tr style=\"text-align: right;\">\n",
       "      <th></th>\n",
       "      <th>Dátum</th>\n",
       "      <th>Elhunytak</th>\n",
       "      <th>New Deaths</th>\n",
       "    </tr>\n",
       "  </thead>\n",
       "  <tbody>\n",
       "    <tr>\n",
       "      <th>0</th>\n",
       "      <td>2020-03-16</td>\n",
       "      <td>1.0</td>\n",
       "      <td>1.0</td>\n",
       "    </tr>\n",
       "    <tr>\n",
       "      <th>1</th>\n",
       "      <td>2020-03-20</td>\n",
       "      <td>4.0</td>\n",
       "      <td>3.0</td>\n",
       "    </tr>\n",
       "    <tr>\n",
       "      <th>2</th>\n",
       "      <td>2020-03-20</td>\n",
       "      <td>4.0</td>\n",
       "      <td>3.0</td>\n",
       "    </tr>\n",
       "    <tr>\n",
       "      <th>3</th>\n",
       "      <td>2020-03-20</td>\n",
       "      <td>4.0</td>\n",
       "      <td>3.0</td>\n",
       "    </tr>\n",
       "    <tr>\n",
       "      <th>4</th>\n",
       "      <td>2020-03-22</td>\n",
       "      <td>6.0</td>\n",
       "      <td>2.0</td>\n",
       "    </tr>\n",
       "  </tbody>\n",
       "</table>\n",
       "</div>"
      ],
      "text/plain": [
       "        Dátum Elhunytak New Deaths\n",
       "0  2020-03-16       1.0        1.0\n",
       "1  2020-03-20       4.0        3.0\n",
       "2  2020-03-20       4.0        3.0\n",
       "3  2020-03-20       4.0        3.0\n",
       "4  2020-03-22       6.0        2.0"
      ]
     },
     "execution_count": 9,
     "metadata": {},
     "output_type": "execute_result"
    }
   ],
   "source": [
    "repeat = df1[\"New Deaths\"]\n",
    "data = pd.DataFrame(np.repeat(df1.values, repeat,axis=0), columns= df1.columns)\n",
    "#len(repeat)\n",
    "data.head()"
   ]
  },
  {
   "cell_type": "code",
   "execution_count": 10,
   "metadata": {},
   "outputs": [
    {
     "name": "stdout",
     "output_type": "stream",
     "text": [
      "              Nem  Kor\n",
      "Dátum                 \n",
      "2020-03-16     Nő   76\n",
      "2020-03-20     Nő   65\n",
      "2020-03-20  Férfi   74\n",
      "2020-03-20  Férfi   79\n",
      "2020-03-22  Férfi   68\n"
     ]
    },
    {
     "data": {
      "text/plain": [
       "32171"
      ]
     },
     "execution_count": 10,
     "metadata": {},
     "output_type": "execute_result"
    }
   ],
   "source": [
    "new_data = pd.merge(data, df, left_index=True, right_index=True)\n",
    "#new_data = pd.read_csv(\"new_data.csv\")\n",
    "#new_data = pd.read_csv(\"new_data.csv\", usecols=['Dátum', 'Nem', 'Kor'])\n",
    "new_data = new_data.drop(columns=['Elhunytak', 'New Deaths'])\n",
    "new_data[\"Dátum\"]=pd.to_datetime(new_data[\"Dátum\"])\n",
    "new_data.set_index(\"Dátum\", inplace=True)\n",
    "\n",
    "print(new_data.head())\n",
    "len(new_data)\n",
    "#new_data.info()"
   ]
  },
  {
   "cell_type": "code",
   "execution_count": 11,
   "metadata": {},
   "outputs": [],
   "source": [
    "df1[\"Dátum\"]=pd.to_datetime(df1[\"Dátum\"])\n",
    "df1.set_index(\"Dátum\", inplace=True)\n",
    "data_with_dates=pd.merge(df1,new_data, how='outer', left_index=True, right_index=True)\n",
    "#data_with_dates = pd.read_csv(\"dates.csv\", usecols=['Elhunytak_x', 'New Deaths_x', 'Nem', 'Kor'])\n",
    "data_with_dates.to_csv(\"data_with_dates.csv\")\n",
    "#data_with_dates = pd.read_csv(\"dates.csv\", usecols=['Elhunytak_x', 'New Deaths_x', 'Nem', 'Kor'])"
   ]
  },
  {
   "cell_type": "code",
   "execution_count": 13,
   "metadata": {},
   "outputs": [
    {
     "data": {
      "text/html": [
       "<div>\n",
       "<style scoped>\n",
       "    .dataframe tbody tr th:only-of-type {\n",
       "        vertical-align: middle;\n",
       "    }\n",
       "\n",
       "    .dataframe tbody tr th {\n",
       "        vertical-align: top;\n",
       "    }\n",
       "\n",
       "    .dataframe thead th {\n",
       "        text-align: right;\n",
       "    }\n",
       "</style>\n",
       "<table border=\"1\" class=\"dataframe\">\n",
       "  <thead>\n",
       "    <tr style=\"text-align: right;\">\n",
       "      <th></th>\n",
       "      <th>Elhunytak</th>\n",
       "      <th>New Deaths</th>\n",
       "      <th>Nem</th>\n",
       "      <th>Kor</th>\n",
       "    </tr>\n",
       "    <tr>\n",
       "      <th>Dátum</th>\n",
       "      <th></th>\n",
       "      <th></th>\n",
       "      <th></th>\n",
       "      <th></th>\n",
       "    </tr>\n",
       "  </thead>\n",
       "  <tbody>\n",
       "    <tr>\n",
       "      <th>2020-03-16</th>\n",
       "      <td>1.0</td>\n",
       "      <td>1.0</td>\n",
       "      <td>Nő</td>\n",
       "      <td>76.0</td>\n",
       "    </tr>\n",
       "    <tr>\n",
       "      <th>2020-03-17</th>\n",
       "      <td>1.0</td>\n",
       "      <td>0.0</td>\n",
       "      <td>NaN</td>\n",
       "      <td>NaN</td>\n",
       "    </tr>\n",
       "    <tr>\n",
       "      <th>2020-03-18</th>\n",
       "      <td>1.0</td>\n",
       "      <td>0.0</td>\n",
       "      <td>NaN</td>\n",
       "      <td>NaN</td>\n",
       "    </tr>\n",
       "    <tr>\n",
       "      <th>2020-03-19</th>\n",
       "      <td>1.0</td>\n",
       "      <td>0.0</td>\n",
       "      <td>NaN</td>\n",
       "      <td>NaN</td>\n",
       "    </tr>\n",
       "    <tr>\n",
       "      <th>2020-03-20</th>\n",
       "      <td>4.0</td>\n",
       "      <td>3.0</td>\n",
       "      <td>Nő</td>\n",
       "      <td>65.0</td>\n",
       "    </tr>\n",
       "    <tr>\n",
       "      <th>2020-03-20</th>\n",
       "      <td>4.0</td>\n",
       "      <td>3.0</td>\n",
       "      <td>Férfi</td>\n",
       "      <td>74.0</td>\n",
       "    </tr>\n",
       "    <tr>\n",
       "      <th>2020-03-20</th>\n",
       "      <td>4.0</td>\n",
       "      <td>3.0</td>\n",
       "      <td>Férfi</td>\n",
       "      <td>79.0</td>\n",
       "    </tr>\n",
       "    <tr>\n",
       "      <th>2020-03-21</th>\n",
       "      <td>4.0</td>\n",
       "      <td>0.0</td>\n",
       "      <td>NaN</td>\n",
       "      <td>NaN</td>\n",
       "    </tr>\n",
       "    <tr>\n",
       "      <th>2020-03-22</th>\n",
       "      <td>6.0</td>\n",
       "      <td>2.0</td>\n",
       "      <td>Férfi</td>\n",
       "      <td>68.0</td>\n",
       "    </tr>\n",
       "    <tr>\n",
       "      <th>2020-03-22</th>\n",
       "      <td>6.0</td>\n",
       "      <td>2.0</td>\n",
       "      <td>Nő</td>\n",
       "      <td>41.0</td>\n",
       "    </tr>\n",
       "  </tbody>\n",
       "</table>\n",
       "</div>"
      ],
      "text/plain": [
       "            Elhunytak  New Deaths    Nem   Kor\n",
       "Dátum                                         \n",
       "2020-03-16        1.0         1.0     Nő  76.0\n",
       "2020-03-17        1.0         0.0    NaN   NaN\n",
       "2020-03-18        1.0         0.0    NaN   NaN\n",
       "2020-03-19        1.0         0.0    NaN   NaN\n",
       "2020-03-20        4.0         3.0     Nő  65.0\n",
       "2020-03-20        4.0         3.0  Férfi  74.0\n",
       "2020-03-20        4.0         3.0  Férfi  79.0\n",
       "2020-03-21        4.0         0.0    NaN   NaN\n",
       "2020-03-22        6.0         2.0  Férfi  68.0\n",
       "2020-03-22        6.0         2.0     Nő  41.0"
      ]
     },
     "execution_count": 13,
     "metadata": {},
     "output_type": "execute_result"
    }
   ],
   "source": [
    "data_with_dates.head(10)"
   ]
  },
  {
   "cell_type": "code",
   "execution_count": null,
   "metadata": {},
   "outputs": [],
   "source": []
  }
 ],
 "metadata": {
  "kernelspec": {
   "display_name": "Python 3 (ipykernel)",
   "language": "python",
   "name": "python3"
  },
  "language_info": {
   "codemirror_mode": {
    "name": "ipython",
    "version": 3
   },
   "file_extension": ".py",
   "mimetype": "text/x-python",
   "name": "python",
   "nbconvert_exporter": "python",
   "pygments_lexer": "ipython3",
   "version": "3.9.9"
  }
 },
 "nbformat": 4,
 "nbformat_minor": 1
}
